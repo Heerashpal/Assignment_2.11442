{
 "cells": [
  {
   "cell_type": "code",
   "execution_count": 8,
   "metadata": {},
   "outputs": [
    {
     "name": "stdout",
     "output_type": "stream",
     "text": [
      "Please enter the number:1,2,3,4,5,6,7,8,9,10\n",
      "Here is the list you have entered:\n",
      "['1', '2', '3', '4', '5', '6', '7', '8', '9', '10']\n"
     ]
    }
   ],
   "source": [
    "## 1. Write a program which accepts a sequence of comma-separated numbers from console and generate a list\n",
    "list=[]\n",
    "list = input(\"Please enter the number:\")\n",
    "l = list.split(',')\n",
    "print(\"Here is the list you have entered:\")\n",
    "\n",
    "print(l)"
   ]
  },
  {
   "cell_type": "code",
   "execution_count": 12,
   "metadata": {},
   "outputs": [
    {
     "name": "stdout",
     "output_type": "stream",
     "text": [
      "* \n",
      "* * \n",
      "* * * \n",
      "* * * * \n",
      "* * * * * \n",
      "* * * * \n",
      "* * * \n",
      "* * \n",
      "* \n"
     ]
    }
   ],
   "source": [
    "##2. Create the below pattern using nested for loop in Python.\n",
    "\n",
    "#*\n",
    "#* *\n",
    "#* * *\n",
    "#* * * *\n",
    "#* * * * *\n",
    "#* * * *\n",
    "#* * *\n",
    "#* *\n",
    "#*\n",
    "#############################################\n",
    "\n",
    "for i in range(5):\n",
    "    print('* '*(i+1))\n",
    "for j in range(4, 0, -1):\n",
    "    print('* '*j)\n"
   ]
  },
  {
   "cell_type": "code",
   "execution_count": 13,
   "metadata": {},
   "outputs": [
    {
     "name": "stdout",
     "output_type": "stream",
     "text": [
      "Enter a word:Acadgild\n",
      "output dligdacA\n"
     ]
    }
   ],
   "source": [
    "#3. Write a Python program to reverse a word after accepting the input from the user.\n",
    "#Sample Output:\n",
    "#Input word: AcadGild\n",
    "#Output: dliGdacA\n",
    "#----------------------------------------------------------------------------------------------------------\n",
    "word= input(\"Enter a word:\")\n",
    "\n",
    "print(\"output\", word[::-1])"
   ]
  },
  {
   "cell_type": "code",
   "execution_count": 14,
   "metadata": {},
   "outputs": [
    {
     "name": "stdout",
     "output_type": "stream",
     "text": [
      "WE, THE PEOPLE OF INDIA,\n",
      "having solemnly resolved to constitute India into a SOVEREIGN, !\n",
      "SOCIALIST, SECULAR, DEMOCRATIC REPUBLIC \n",
      "and to secure to all its citizens\n"
     ]
    }
   ],
   "source": [
    "#4. Write a Python Program to print the given string in the format specified in the sample output.\n",
    "#WE, THE PEOPLE OF INDIA, having solemnly resolved to constitute India into a SOVEREIGN,\n",
    "#SOCIALIST, SECULAR, DEMOCRATIC REPUBLIC and to secure to all its citizens\n",
    "#Sample Output:\n",
    "#WE, THE PEOPLE OF INDIA,\n",
    "#having solemnly resolved to constitute India into a SOVEREIGN, !\n",
    "#SOCIALIST, SECULAR, DEMOCRATIC REPUBLIC\n",
    "#and to secure to all its citizens \n",
    "#-----------------------------------------------------------------------------------------------------------------\n",
    "\n",
    "\n",
    "print('''WE, THE PEOPLE OF INDIA,\\nhaving solemnly resolved to constitute India into a SOVEREIGN, !\\nSOCIALIST, SECULAR, DEMOCRATIC REPUBLIC \\nand to secure to all its citizens''')"
   ]
  },
  {
   "cell_type": "code",
   "execution_count": null,
   "metadata": {},
   "outputs": [],
   "source": []
  },
  {
   "cell_type": "code",
   "execution_count": null,
   "metadata": {},
   "outputs": [],
   "source": []
  }
 ],
 "metadata": {
  "kernelspec": {
   "display_name": "Python 3",
   "language": "python",
   "name": "python3"
  },
  "language_info": {
   "codemirror_mode": {
    "name": "ipython",
    "version": 3
   },
   "file_extension": ".py",
   "mimetype": "text/x-python",
   "name": "python",
   "nbconvert_exporter": "python",
   "pygments_lexer": "ipython3",
   "version": "3.7.1"
  }
 },
 "nbformat": 4,
 "nbformat_minor": 2
}
